{
 "cells": [
  {
   "cell_type": "markdown",
   "metadata": {},
   "source": [
    "## Testnotebook\n",
    "Durch Ausführen der nachfolgenden Zellen werden zufällig verteilte rote Punkte und eine zufällige blaue Linie geplottet."
   ]
  },
  {
   "cell_type": "code",
   "execution_count": null,
   "metadata": {},
   "outputs": [],
   "source": [
    "%matplotlib notebook\n",
    "import matplotlib.pyplot as plt\n",
    "import numpy as np"
   ]
  },
  {
   "cell_type": "code",
   "execution_count": null,
   "metadata": {},
   "outputs": [],
   "source": [
    "points = np.random.random((20, 2))\n",
    "line = np.random.random(30)\n",
    "\n",
    "fig, ax = plt.subplots()\n",
    "ax.plot(points[:,0], points[:,1], 'ro')\n",
    "ax.plot(np.linspace(0, 1, line.size), line, 'b-')\n",
    "ax.set_xlabel(\"x-Achse\")\n",
    "ax.set_ylabel(\"y-Achse\")\n",
    "ax.set_title(\"Zufallsdaten\")\n",
    "\n",
    "fig.show()"
   ]
  }
 ],
 "metadata": {
  "kernelspec": {
   "display_name": "Python 3",
   "language": "python",
   "name": "python3"
  },
  "language_info": {
   "codemirror_mode": {
    "name": "ipython",
    "version": 3
   },
   "file_extension": ".py",
   "mimetype": "text/x-python",
   "name": "python",
   "nbconvert_exporter": "python",
   "pygments_lexer": "ipython3",
   "version": "3.7.4"
  }
 },
 "nbformat": 4,
 "nbformat_minor": 2
}
